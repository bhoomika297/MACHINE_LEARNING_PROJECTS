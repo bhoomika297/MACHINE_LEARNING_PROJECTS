{
  "metadata": {
    "kernelspec": {
      "language": "python",
      "display_name": "Python 3",
      "name": "python3"
    },
    "language_info": {
      "name": "python",
      "version": "3.10.14",
      "mimetype": "text/x-python",
      "codemirror_mode": {
        "name": "ipython",
        "version": 3
      },
      "pygments_lexer": "ipython3",
      "nbconvert_exporter": "python",
      "file_extension": ".py"
    },
    "kaggle": {
      "accelerator": "none",
      "dataSources": [
        {
          "sourceId": 9425404,
          "sourceType": "datasetVersion",
          "datasetId": 5719862
        }
      ],
      "dockerImageVersionId": 30775,
      "isInternetEnabled": false,
      "language": "python",
      "sourceType": "notebook",
      "isGpuEnabled": false
    },
    "colab": {
      "name": "MBA class 2025 admit prediction",
      "provenance": [],
      "include_colab_link": true
    }
  },
  "nbformat_minor": 0,
  "nbformat": 4,
  "cells": [
    {
      "cell_type": "markdown",
      "metadata": {
        "id": "view-in-github",
        "colab_type": "text"
      },
      "source": [
        "<a href=\"https://colab.research.google.com/github/bhoomika297/MACHINE_LEARNING_PROJECTS/blob/main/MBA_class_2025_admit_prediction.ipynb\" target=\"_parent\"><img src=\"https://colab.research.google.com/assets/colab-badge.svg\" alt=\"Open In Colab\"/></a>"
      ]
    },
    {
      "source": [
        "\n",
        "# IMPORTANT: RUN THIS CELL IN ORDER TO IMPORT YOUR KAGGLE DATA SOURCES\n",
        "# TO THE CORRECT LOCATION (/kaggle/input) IN YOUR NOTEBOOK,\n",
        "# THEN FEEL FREE TO DELETE THIS CELL.\n",
        "# NOTE: THIS NOTEBOOK ENVIRONMENT DIFFERS FROM KAGGLE'S PYTHON\n",
        "# ENVIRONMENT SO THERE MAY BE MISSING LIBRARIES USED BY YOUR\n",
        "# NOTEBOOK.\n",
        "\n",
        "import os\n",
        "import sys\n",
        "from tempfile import NamedTemporaryFile\n",
        "from urllib.request import urlopen\n",
        "from urllib.parse import unquote, urlparse\n",
        "from urllib.error import HTTPError\n",
        "from zipfile import ZipFile\n",
        "import tarfile\n",
        "import shutil\n",
        "\n",
        "CHUNK_SIZE = 40960\n",
        "DATA_SOURCE_MAPPING = 'mba-admission-dataset:https%3A%2F%2Fstorage.googleapis.com%2Fkaggle-data-sets%2F5719862%2F9425404%2Fbundle%2Farchive.zip%3FX-Goog-Algorithm%3DGOOG4-RSA-SHA256%26X-Goog-Credential%3Dgcp-kaggle-com%2540kaggle-161607.iam.gserviceaccount.com%252F20240927%252Fauto%252Fstorage%252Fgoog4_request%26X-Goog-Date%3D20240927T115208Z%26X-Goog-Expires%3D259200%26X-Goog-SignedHeaders%3Dhost%26X-Goog-Signature%3D04834472a0d13426626be93e23f9d032782a07b5ee7bf026cd2cf6ddf713342d8296b9d3a3075b9a35645d604e83884677591603b7bedcd8af29aa92b93ca2943327020284a15e87c22692d1335a4e9fa7b978d7ad038c053625a57cb66ab7dade936ef760186eb3cc07427ec801ae5fa5bc8c2d67205749e41b682edee168e4ab57eb161b1137d1652631702753d34be860b521707a180ff2935f88d29f149765fca4629ad75234341a9c5ca23c5776941663393719d7510a62efb25ebb54d5fb33e3e7035674f6309721681e7a7d1f520095fa11c42aaf88c2fe217511d618eb142866cf0ba286b79590267cd5ed841b86feee93c8890d5854d66d981a840e'\n",
        "\n",
        "KAGGLE_INPUT_PATH='/kaggle/input'\n",
        "KAGGLE_WORKING_PATH='/kaggle/working'\n",
        "KAGGLE_SYMLINK='kaggle'\n",
        "\n",
        "!umount /kaggle/input/ 2> /dev/null\n",
        "shutil.rmtree('/kaggle/input', ignore_errors=True)\n",
        "os.makedirs(KAGGLE_INPUT_PATH, 0o777, exist_ok=True)\n",
        "os.makedirs(KAGGLE_WORKING_PATH, 0o777, exist_ok=True)\n",
        "\n",
        "try:\n",
        "  os.symlink(KAGGLE_INPUT_PATH, os.path.join(\"..\", 'input'), target_is_directory=True)\n",
        "except FileExistsError:\n",
        "  pass\n",
        "try:\n",
        "  os.symlink(KAGGLE_WORKING_PATH, os.path.join(\"..\", 'working'), target_is_directory=True)\n",
        "except FileExistsError:\n",
        "  pass\n",
        "\n",
        "for data_source_mapping in DATA_SOURCE_MAPPING.split(','):\n",
        "    directory, download_url_encoded = data_source_mapping.split(':')\n",
        "    download_url = unquote(download_url_encoded)\n",
        "    filename = urlparse(download_url).path\n",
        "    destination_path = os.path.join(KAGGLE_INPUT_PATH, directory)\n",
        "    try:\n",
        "        with urlopen(download_url) as fileres, NamedTemporaryFile() as tfile:\n",
        "            total_length = fileres.headers['content-length']\n",
        "            print(f'Downloading {directory}, {total_length} bytes compressed')\n",
        "            dl = 0\n",
        "            data = fileres.read(CHUNK_SIZE)\n",
        "            while len(data) > 0:\n",
        "                dl += len(data)\n",
        "                tfile.write(data)\n",
        "                done = int(50 * dl / int(total_length))\n",
        "                sys.stdout.write(f\"\\r[{'=' * done}{' ' * (50-done)}] {dl} bytes downloaded\")\n",
        "                sys.stdout.flush()\n",
        "                data = fileres.read(CHUNK_SIZE)\n",
        "            if filename.endswith('.zip'):\n",
        "              with ZipFile(tfile) as zfile:\n",
        "                zfile.extractall(destination_path)\n",
        "            else:\n",
        "              with tarfile.open(tfile.name) as tarfile:\n",
        "                tarfile.extractall(destination_path)\n",
        "            print(f'\\nDownloaded and uncompressed: {directory}')\n",
        "    except HTTPError as e:\n",
        "        print(f'Failed to load (likely expired) {download_url} to path {destination_path}')\n",
        "        continue\n",
        "    except OSError as e:\n",
        "        print(f'Failed to load {download_url} to path {destination_path}')\n",
        "        continue\n",
        "\n",
        "print('Data source import complete.')\n"
      ],
      "metadata": {
        "id": "C5rb_3WEUxJh"
      },
      "cell_type": "code",
      "outputs": [],
      "execution_count": null
    },
    {
      "cell_type": "code",
      "source": [
        "# This Python 3 environment comes with many helpful analytics libraries installed\n",
        "# It is defined by the kaggle/python Docker image: https://github.com/kaggle/docker-python\n",
        "# For example, here's several helpful packages to load\n",
        "\n",
        "import numpy as np # linear algebra\n",
        "import pandas as pd # data processing, CSV file I/O (e.g. pd.read_csv)\n",
        "\n",
        "# Input data files are available in the read-only \"../input/\" directory\n",
        "# For example, running this (by clicking run or pressing Shift+Enter) will list all files under the input directory\n",
        "\n",
        "import os\n",
        "for dirname, _, filenames in os.walk('/kaggle/input'):\n",
        "    for filename in filenames:\n",
        "        print(os.path.join(dirname, filename))\n",
        "\n",
        "# You can write up to 20GB to the current directory (/kaggle/working/) that gets preserved as output when you create a version using \"Save & Run All\"\n",
        "# You can also write temporary files to /kaggle/temp/, but they won't be saved outside of the current session"
      ],
      "metadata": {
        "_uuid": "8f2839f25d086af736a60e9eeb907d3b93b6e0e5",
        "_cell_guid": "b1076dfc-b9ad-4769-8c92-a6c4dae69d19",
        "execution": {
          "iopub.status.busy": "2024-09-27T09:26:41.447939Z",
          "iopub.execute_input": "2024-09-27T09:26:41.448462Z",
          "iopub.status.idle": "2024-09-27T09:26:42.80264Z",
          "shell.execute_reply.started": "2024-09-27T09:26:41.448414Z",
          "shell.execute_reply": "2024-09-27T09:26:42.801364Z"
        },
        "trusted": true,
        "id": "y1yuqLYQUxJr",
        "outputId": "168400f0-7360-4bbe-fc98-290655f8de0b"
      },
      "execution_count": null,
      "outputs": [
        {
          "name": "stdout",
          "text": "/kaggle/input/mba-admission-dataset/MBA.csv\n",
          "output_type": "stream"
        }
      ]
    },
    {
      "cell_type": "code",
      "source": [
        "df = pd.read_csv('/kaggle/input/mba-admission-dataset/MBA.csv')"
      ],
      "metadata": {
        "execution": {
          "iopub.status.busy": "2024-09-27T09:39:23.08278Z",
          "iopub.execute_input": "2024-09-27T09:39:23.083314Z",
          "iopub.status.idle": "2024-09-27T09:39:23.11605Z",
          "shell.execute_reply.started": "2024-09-27T09:39:23.083268Z",
          "shell.execute_reply": "2024-09-27T09:39:23.114766Z"
        },
        "trusted": true,
        "id": "KcXyCyXCUxJv"
      },
      "execution_count": null,
      "outputs": []
    },
    {
      "cell_type": "code",
      "source": [
        "df.head()"
      ],
      "metadata": {
        "execution": {
          "iopub.status.busy": "2024-09-27T09:39:23.481898Z",
          "iopub.execute_input": "2024-09-27T09:39:23.482339Z",
          "iopub.status.idle": "2024-09-27T09:39:23.502772Z",
          "shell.execute_reply.started": "2024-09-27T09:39:23.482299Z",
          "shell.execute_reply": "2024-09-27T09:39:23.50152Z"
        },
        "trusted": true,
        "id": "z9ksd7CRUxJw",
        "outputId": "745529c6-50c5-4f5d-d36b-d545c8a78789"
      },
      "execution_count": null,
      "outputs": [
        {
          "execution_count": 19,
          "output_type": "execute_result",
          "data": {
            "text/plain": "   application_id  gender  international   gpa       major      race   gmat  \\\n0               1  Female          False  3.30    Business     Asian  620.0   \n1               2    Male          False  3.28  Humanities     Black  680.0   \n2               3  Female           True  3.30    Business       NaN  710.0   \n3               4    Male          False  3.47        STEM     Black  690.0   \n4               5    Male          False  3.35        STEM  Hispanic  590.0   \n\n   work_exp          work_industry admission  \n0       3.0     Financial Services     Admit  \n1       5.0  Investment Management       NaN  \n2       5.0             Technology     Admit  \n3       6.0             Technology       NaN  \n4       5.0             Consulting       NaN  ",
            "text/html": "<div>\n<style scoped>\n    .dataframe tbody tr th:only-of-type {\n        vertical-align: middle;\n    }\n\n    .dataframe tbody tr th {\n        vertical-align: top;\n    }\n\n    .dataframe thead th {\n        text-align: right;\n    }\n</style>\n<table border=\"1\" class=\"dataframe\">\n  <thead>\n    <tr style=\"text-align: right;\">\n      <th></th>\n      <th>application_id</th>\n      <th>gender</th>\n      <th>international</th>\n      <th>gpa</th>\n      <th>major</th>\n      <th>race</th>\n      <th>gmat</th>\n      <th>work_exp</th>\n      <th>work_industry</th>\n      <th>admission</th>\n    </tr>\n  </thead>\n  <tbody>\n    <tr>\n      <th>0</th>\n      <td>1</td>\n      <td>Female</td>\n      <td>False</td>\n      <td>3.30</td>\n      <td>Business</td>\n      <td>Asian</td>\n      <td>620.0</td>\n      <td>3.0</td>\n      <td>Financial Services</td>\n      <td>Admit</td>\n    </tr>\n    <tr>\n      <th>1</th>\n      <td>2</td>\n      <td>Male</td>\n      <td>False</td>\n      <td>3.28</td>\n      <td>Humanities</td>\n      <td>Black</td>\n      <td>680.0</td>\n      <td>5.0</td>\n      <td>Investment Management</td>\n      <td>NaN</td>\n    </tr>\n    <tr>\n      <th>2</th>\n      <td>3</td>\n      <td>Female</td>\n      <td>True</td>\n      <td>3.30</td>\n      <td>Business</td>\n      <td>NaN</td>\n      <td>710.0</td>\n      <td>5.0</td>\n      <td>Technology</td>\n      <td>Admit</td>\n    </tr>\n    <tr>\n      <th>3</th>\n      <td>4</td>\n      <td>Male</td>\n      <td>False</td>\n      <td>3.47</td>\n      <td>STEM</td>\n      <td>Black</td>\n      <td>690.0</td>\n      <td>6.0</td>\n      <td>Technology</td>\n      <td>NaN</td>\n    </tr>\n    <tr>\n      <th>4</th>\n      <td>5</td>\n      <td>Male</td>\n      <td>False</td>\n      <td>3.35</td>\n      <td>STEM</td>\n      <td>Hispanic</td>\n      <td>590.0</td>\n      <td>5.0</td>\n      <td>Consulting</td>\n      <td>NaN</td>\n    </tr>\n  </tbody>\n</table>\n</div>"
          },
          "metadata": {}
        }
      ]
    },
    {
      "cell_type": "code",
      "source": [
        "df.drop('application_id',axis=1, inplace=True)"
      ],
      "metadata": {
        "execution": {
          "iopub.status.busy": "2024-09-27T09:39:23.882102Z",
          "iopub.execute_input": "2024-09-27T09:39:23.88261Z",
          "iopub.status.idle": "2024-09-27T09:39:23.890975Z",
          "shell.execute_reply.started": "2024-09-27T09:39:23.882564Z",
          "shell.execute_reply": "2024-09-27T09:39:23.889386Z"
        },
        "trusted": true,
        "id": "PKA-84MBUxJx"
      },
      "execution_count": null,
      "outputs": []
    },
    {
      "cell_type": "code",
      "source": [
        "df.info()"
      ],
      "metadata": {
        "execution": {
          "iopub.status.busy": "2024-09-27T09:39:24.167285Z",
          "iopub.execute_input": "2024-09-27T09:39:24.167774Z",
          "iopub.status.idle": "2024-09-27T09:39:24.185451Z",
          "shell.execute_reply.started": "2024-09-27T09:39:24.167728Z",
          "shell.execute_reply": "2024-09-27T09:39:24.183693Z"
        },
        "trusted": true,
        "id": "wBSm9OdQUxJy",
        "outputId": "1440cb58-884c-457c-b5cf-23286f535801"
      },
      "execution_count": null,
      "outputs": [
        {
          "name": "stdout",
          "text": "<class 'pandas.core.frame.DataFrame'>\nRangeIndex: 6194 entries, 0 to 6193\nData columns (total 9 columns):\n #   Column         Non-Null Count  Dtype  \n---  ------         --------------  -----  \n 0   gender         6194 non-null   object \n 1   international  6194 non-null   bool   \n 2   gpa            6194 non-null   float64\n 3   major          6194 non-null   object \n 4   race           4352 non-null   object \n 5   gmat           6194 non-null   float64\n 6   work_exp       6194 non-null   float64\n 7   work_industry  6194 non-null   object \n 8   admission      1000 non-null   object \ndtypes: bool(1), float64(3), object(5)\nmemory usage: 393.3+ KB\n",
          "output_type": "stream"
        }
      ]
    },
    {
      "cell_type": "code",
      "source": [
        "df.isnull().sum()"
      ],
      "metadata": {
        "execution": {
          "iopub.status.busy": "2024-09-27T09:39:24.402395Z",
          "iopub.execute_input": "2024-09-27T09:39:24.402862Z",
          "iopub.status.idle": "2024-09-27T09:39:24.415967Z",
          "shell.execute_reply.started": "2024-09-27T09:39:24.402819Z",
          "shell.execute_reply": "2024-09-27T09:39:24.41473Z"
        },
        "trusted": true,
        "id": "wlelcltaUxJ0",
        "outputId": "b8be94bd-9593-4f46-d835-e89abe3362ae"
      },
      "execution_count": null,
      "outputs": [
        {
          "execution_count": 22,
          "output_type": "execute_result",
          "data": {
            "text/plain": "gender              0\ninternational       0\ngpa                 0\nmajor               0\nrace             1842\ngmat                0\nwork_exp            0\nwork_industry       0\nadmission        5194\ndtype: int64"
          },
          "metadata": {}
        }
      ]
    },
    {
      "cell_type": "code",
      "source": [
        "df.describe()"
      ],
      "metadata": {
        "execution": {
          "iopub.status.busy": "2024-09-27T09:39:24.587299Z",
          "iopub.execute_input": "2024-09-27T09:39:24.588569Z",
          "iopub.status.idle": "2024-09-27T09:39:24.61553Z",
          "shell.execute_reply.started": "2024-09-27T09:39:24.588514Z",
          "shell.execute_reply": "2024-09-27T09:39:24.614385Z"
        },
        "trusted": true,
        "id": "zzN5BliFUxJ1",
        "outputId": "4f06eff5-2ac5-4197-b1cd-c329e4bf2d99"
      },
      "execution_count": null,
      "outputs": [
        {
          "execution_count": 23,
          "output_type": "execute_result",
          "data": {
            "text/plain": "               gpa         gmat     work_exp\ncount  6194.000000  6194.000000  6194.000000\nmean      3.250714   651.092993     5.016952\nstd       0.151541    49.294883     1.032432\nmin       2.650000   570.000000     1.000000\n25%       3.150000   610.000000     4.000000\n50%       3.250000   650.000000     5.000000\n75%       3.350000   680.000000     6.000000\nmax       3.770000   780.000000     9.000000",
            "text/html": "<div>\n<style scoped>\n    .dataframe tbody tr th:only-of-type {\n        vertical-align: middle;\n    }\n\n    .dataframe tbody tr th {\n        vertical-align: top;\n    }\n\n    .dataframe thead th {\n        text-align: right;\n    }\n</style>\n<table border=\"1\" class=\"dataframe\">\n  <thead>\n    <tr style=\"text-align: right;\">\n      <th></th>\n      <th>gpa</th>\n      <th>gmat</th>\n      <th>work_exp</th>\n    </tr>\n  </thead>\n  <tbody>\n    <tr>\n      <th>count</th>\n      <td>6194.000000</td>\n      <td>6194.000000</td>\n      <td>6194.000000</td>\n    </tr>\n    <tr>\n      <th>mean</th>\n      <td>3.250714</td>\n      <td>651.092993</td>\n      <td>5.016952</td>\n    </tr>\n    <tr>\n      <th>std</th>\n      <td>0.151541</td>\n      <td>49.294883</td>\n      <td>1.032432</td>\n    </tr>\n    <tr>\n      <th>min</th>\n      <td>2.650000</td>\n      <td>570.000000</td>\n      <td>1.000000</td>\n    </tr>\n    <tr>\n      <th>25%</th>\n      <td>3.150000</td>\n      <td>610.000000</td>\n      <td>4.000000</td>\n    </tr>\n    <tr>\n      <th>50%</th>\n      <td>3.250000</td>\n      <td>650.000000</td>\n      <td>5.000000</td>\n    </tr>\n    <tr>\n      <th>75%</th>\n      <td>3.350000</td>\n      <td>680.000000</td>\n      <td>6.000000</td>\n    </tr>\n    <tr>\n      <th>max</th>\n      <td>3.770000</td>\n      <td>780.000000</td>\n      <td>9.000000</td>\n    </tr>\n  </tbody>\n</table>\n</div>"
          },
          "metadata": {}
        }
      ]
    },
    {
      "cell_type": "code",
      "source": [
        "df.shape"
      ],
      "metadata": {
        "execution": {
          "iopub.status.busy": "2024-09-27T09:39:24.762429Z",
          "iopub.execute_input": "2024-09-27T09:39:24.763851Z",
          "iopub.status.idle": "2024-09-27T09:39:24.773055Z",
          "shell.execute_reply.started": "2024-09-27T09:39:24.763785Z",
          "shell.execute_reply": "2024-09-27T09:39:24.77128Z"
        },
        "trusted": true,
        "id": "A70X4guPUxJ2",
        "outputId": "c926f808-79a4-4cc4-f571-2e1c23a07758"
      },
      "execution_count": null,
      "outputs": [
        {
          "execution_count": 24,
          "output_type": "execute_result",
          "data": {
            "text/plain": "(6194, 9)"
          },
          "metadata": {}
        }
      ]
    },
    {
      "cell_type": "code",
      "source": [
        "import matplotlib.pyplot as plt\n",
        "import seaborn as sns"
      ],
      "metadata": {
        "execution": {
          "iopub.status.busy": "2024-09-27T09:39:24.964628Z",
          "iopub.execute_input": "2024-09-27T09:39:24.965972Z",
          "iopub.status.idle": "2024-09-27T09:39:24.973418Z",
          "shell.execute_reply.started": "2024-09-27T09:39:24.965918Z",
          "shell.execute_reply": "2024-09-27T09:39:24.972052Z"
        },
        "trusted": true,
        "id": "Z3PCXPqeUxJ4"
      },
      "execution_count": null,
      "outputs": []
    },
    {
      "cell_type": "code",
      "source": [
        "X= df['gender'].value_counts()\n",
        "\n",
        "\n",
        "sns.countplot(x='gender',data=df)\n",
        "plt.xlabel('Gender')\n",
        "plt.ylabel('Value Count')\n",
        "print(X)"
      ],
      "metadata": {
        "execution": {
          "iopub.status.busy": "2024-09-27T09:39:25.232102Z",
          "iopub.execute_input": "2024-09-27T09:39:25.232542Z",
          "iopub.status.idle": "2024-09-27T09:39:25.500823Z",
          "shell.execute_reply.started": "2024-09-27T09:39:25.232499Z",
          "shell.execute_reply": "2024-09-27T09:39:25.499405Z"
        },
        "trusted": true,
        "id": "a1XTCmRtUxJ5",
        "outputId": "83460e84-8a5a-4189-a375-8b1af7e89229"
      },
      "execution_count": null,
      "outputs": [
        {
          "name": "stdout",
          "text": "gender\nMale      3943\nFemale    2251\nName: count, dtype: int64\n",
          "output_type": "stream"
        },
        {
          "output_type": "display_data",
          "data": {
            "text/plain": "<Figure size 640x480 with 1 Axes>",
            "image/png": "[encoded data removed]"
          },
          "metadata": {}
        }
      ]
    },
    {
      "cell_type": "code",
      "source": [
        "sns.countplot(x='race',data=df)\n",
        "plt.xlabel('Race')\n",
        "plt.ylabel('Value Count')\n",
        "print(df['race'].value_counts())"
      ],
      "metadata": {
        "execution": {
          "iopub.status.busy": "2024-09-27T09:39:25.503259Z",
          "iopub.execute_input": "2024-09-27T09:39:25.503789Z",
          "iopub.status.idle": "2024-09-27T09:39:25.789851Z",
          "shell.execute_reply.started": "2024-09-27T09:39:25.503732Z",
          "shell.execute_reply": "2024-09-27T09:39:25.788523Z"
        },
        "trusted": true,
        "id": "48UwCZ2TUxJ5",
        "outputId": "6d36527e-5c69-43c4-fe45-a747e5c80705"
      },
      "execution_count": null,
      "outputs": [
        {
          "name": "stdout",
          "text": "race\nWhite       1456\nAsian       1147\nBlack        916\nHispanic     596\nOther        237\nName: count, dtype: int64\n",
          "output_type": "stream"
        },
        {
          "output_type": "display_data",
          "data": {
            "text/plain": "<Figure size 640x480 with 1 Axes>",
            "image/png": "[encoded data removed]"
          },
          "metadata": {}
        }
      ]
    },
    {
      "cell_type": "code",
      "source": [
        "sns.countplot(x='major',data=df)\n",
        "plt.xlabel('Mojor')\n",
        "plt.ylabel('Value Count')\n",
        "print(df['major'].value_counts())"
      ],
      "metadata": {
        "execution": {
          "iopub.status.busy": "2024-09-27T09:39:25.792113Z",
          "iopub.execute_input": "2024-09-27T09:39:25.792608Z",
          "iopub.status.idle": "2024-09-27T09:39:26.048234Z",
          "shell.execute_reply.started": "2024-09-27T09:39:25.792552Z",
          "shell.execute_reply": "2024-09-27T09:39:26.046912Z"
        },
        "trusted": true,
        "id": "9-s2rSDyUxJ6",
        "outputId": "6999ec64-f4df-4efe-952c-2255fa78e7bf"
      },
      "execution_count": null,
      "outputs": [
        {
          "name": "stdout",
          "text": "major\nHumanities    2481\nSTEM          1875\nBusiness      1838\nName: count, dtype: int64\n",
          "output_type": "stream"
        },
        {
          "output_type": "display_data",
          "data": {
            "text/plain": "<Figure size 640x480 with 1 Axes>",
            "image/png": "[encoded data removed]"
          },
          "metadata": {}
        }
      ]
    },
    {
      "cell_type": "code",
      "source": [
        "df[df['race'].isnull()==True]"
      ],
      "metadata": {
        "execution": {
          "iopub.status.busy": "2024-09-27T09:39:26.050636Z",
          "iopub.execute_input": "2024-09-27T09:39:26.051411Z",
          "iopub.status.idle": "2024-09-27T09:39:26.079104Z",
          "shell.execute_reply.started": "2024-09-27T09:39:26.051342Z",
          "shell.execute_reply": "2024-09-27T09:39:26.077722Z"
        },
        "trusted": true,
        "id": "1_mE9O8TUxJ7",
        "outputId": "a0820d55-4aa0-4e80-f214-5614128e0d74"
      },
      "execution_count": null,
      "outputs": [
        {
          "execution_count": 29,
          "output_type": "execute_result",
          "data": {
            "text/plain": "      gender  international   gpa       major race   gmat  work_exp  \\\n2     Female           True  3.30    Business  NaN  710.0       5.0   \n7       Male           True  3.02    Business  NaN  630.0       6.0   \n11      Male           True  2.85  Humanities  NaN  580.0       4.0   \n15    Female           True  3.05  Humanities  NaN  710.0       4.0   \n19      Male           True  3.09    Business  NaN  670.0       8.0   \n...      ...            ...   ...         ...  ...    ...       ...   \n6167    Male           True  3.24    Business  NaN  570.0       4.0   \n6176  Female           True  3.29    Business  NaN  640.0       5.0   \n6186    Male           True  3.23  Humanities  NaN  610.0       7.0   \n6191  Female           True  3.22    Business  NaN  680.0       5.0   \n6192    Male           True  3.36    Business  NaN  590.0       5.0   \n\n           work_industry admission  \n2             Technology     Admit  \n7     Financial Services       NaN  \n11                 PE/VC       NaN  \n15            Consulting     Admit  \n19            Consulting       NaN  \n...                  ...       ...  \n6167          Consulting       NaN  \n6176          Technology       NaN  \n6186  Financial Services       NaN  \n6191         Health Care     Admit  \n6192               Other       NaN  \n\n[1842 rows x 9 columns]",
            "text/html": "<div>\n<style scoped>\n    .dataframe tbody tr th:only-of-type {\n        vertical-align: middle;\n    }\n\n    .dataframe tbody tr th {\n        vertical-align: top;\n    }\n\n    .dataframe thead th {\n        text-align: right;\n    }\n</style>\n<table border=\"1\" class=\"dataframe\">\n  <thead>\n    <tr style=\"text-align: right;\">\n      <th></th>\n      <th>gender</th>\n      <th>international</th>\n      <th>gpa</th>\n      <th>major</th>\n      <th>race</th>\n      <th>gmat</th>\n      <th>work_exp</th>\n      <th>work_industry</th>\n      <th>admission</th>\n    </tr>\n  </thead>\n  <tbody>\n    <tr>\n      <th>2</th>\n      <td>Female</td>\n      <td>True</td>\n      <td>3.30</td>\n      <td>Business</td>\n      <td>NaN</td>\n      <td>710.0</td>\n      <td>5.0</td>\n      <td>Technology</td>\n      <td>Admit</td>\n    </tr>\n    <tr>\n      <th>7</th>\n      <td>Male</td>\n      <td>True</td>\n      <td>3.02</td>\n      <td>Business</td>\n      <td>NaN</td>\n      <td>630.0</td>\n      <td>6.0</td>\n      <td>Financial Services</td>\n      <td>NaN</td>\n    </tr>\n    <tr>\n      <th>11</th>\n      <td>Male</td>\n      <td>True</td>\n      <td>2.85</td>\n      <td>Humanities</td>\n      <td>NaN</td>\n      <td>580.0</td>\n      <td>4.0</td>\n      <td>PE/VC</td>\n      <td>NaN</td>\n    </tr>\n    <tr>\n      <th>15</th>\n      <td>Female</td>\n      <td>True</td>\n      <td>3.05</td>\n      <td>Humanities</td>\n      <td>NaN</td>\n      <td>710.0</td>\n      <td>4.0</td>\n      <td>Consulting</td>\n      <td>Admit</td>\n    </tr>\n    <tr>\n      <th>19</th>\n      <td>Male</td>\n      <td>True</td>\n      <td>3.09</td>\n      <td>Business</td>\n      <td>NaN</td>\n      <td>670.0</td>\n      <td>8.0</td>\n      <td>Consulting</td>\n      <td>NaN</td>\n    </tr>\n    <tr>\n      <th>...</th>\n      <td>...</td>\n      <td>...</td>\n      <td>...</td>\n      <td>...</td>\n      <td>...</td>\n      <td>...</td>\n      <td>...</td>\n      <td>...</td>\n      <td>...</td>\n    </tr>\n    <tr>\n      <th>6167</th>\n      <td>Male</td>\n      <td>True</td>\n      <td>3.24</td>\n      <td>Business</td>\n      <td>NaN</td>\n      <td>570.0</td>\n      <td>4.0</td>\n      <td>Consulting</td>\n      <td>NaN</td>\n    </tr>\n    <tr>\n      <th>6176</th>\n      <td>Female</td>\n      <td>True</td>\n      <td>3.29</td>\n      <td>Business</td>\n      <td>NaN</td>\n      <td>640.0</td>\n      <td>5.0</td>\n      <td>Technology</td>\n      <td>NaN</td>\n    </tr>\n    <tr>\n      <th>6186</th>\n      <td>Male</td>\n      <td>True</td>\n      <td>3.23</td>\n      <td>Humanities</td>\n      <td>NaN</td>\n      <td>610.0</td>\n      <td>7.0</td>\n      <td>Financial Services</td>\n      <td>NaN</td>\n    </tr>\n    <tr>\n      <th>6191</th>\n      <td>Female</td>\n      <td>True</td>\n      <td>3.22</td>\n      <td>Business</td>\n      <td>NaN</td>\n      <td>680.0</td>\n      <td>5.0</td>\n      <td>Health Care</td>\n      <td>Admit</td>\n    </tr>\n    <tr>\n      <th>6192</th>\n      <td>Male</td>\n      <td>True</td>\n      <td>3.36</td>\n      <td>Business</td>\n      <td>NaN</td>\n      <td>590.0</td>\n      <td>5.0</td>\n      <td>Other</td>\n      <td>NaN</td>\n    </tr>\n  </tbody>\n</table>\n<p>1842 rows × 9 columns</p>\n</div>"
          },
          "metadata": {}
        }
      ]
    },
    {
      "cell_type": "code",
      "source": [
        "sns.countplot(x='work_industry',data=df)\n",
        "plt.xlabel('Work Industry')\n",
        "plt.ylabel('Value Count')\n",
        "plt.xticks(rotation=90)\n",
        "print(df['work_industry'].value_counts().head(10))"
      ],
      "metadata": {
        "execution": {
          "iopub.status.busy": "2024-09-27T09:39:26.107031Z",
          "iopub.execute_input": "2024-09-27T09:39:26.107457Z",
          "iopub.status.idle": "2024-09-27T09:39:26.537845Z",
          "shell.execute_reply.started": "2024-09-27T09:39:26.107408Z",
          "shell.execute_reply": "2024-09-27T09:39:26.536418Z"
        },
        "trusted": true,
        "id": "we8KJOhrUxJ8",
        "outputId": "fd3c4f35-0952-47dc-ef21-b8d6412719d9"
      },
      "execution_count": null,
      "outputs": [
        {
          "name": "stdout",
          "text": "work_industry\nConsulting               1619\nPE/VC                     907\nTechnology                716\nNonprofit/Gov             651\nInvestment Banking        580\nFinancial Services        451\nOther                     421\nHealth Care               334\nInvestment Management     166\nCPG                       114\nName: count, dtype: int64\n",
          "output_type": "stream"
        },
        {
          "output_type": "display_data",
          "data": {
            "text/plain": "<Figure size 640x480 with 1 Axes>",
            "image/png": "[encoded data removed]"
          },
          "metadata": {}
        }
      ]
    },
    {
      "cell_type": "code",
      "source": [
        "sns.countplot(x='admission',data=df)\n",
        "plt.xlabel('admission')\n",
        "plt.ylabel('Value Count')\n",
        "print(df['admission'].value_counts())"
      ],
      "metadata": {
        "execution": {
          "iopub.status.busy": "2024-09-27T09:39:26.540042Z",
          "iopub.execute_input": "2024-09-27T09:39:26.54055Z",
          "iopub.status.idle": "2024-09-27T09:39:26.776713Z",
          "shell.execute_reply.started": "2024-09-27T09:39:26.540495Z",
          "shell.execute_reply": "2024-09-27T09:39:26.774935Z"
        },
        "trusted": true,
        "id": "7rSV86CMUxJ8",
        "outputId": "6885972f-d001-40b1-b2cf-5d06daa618ee"
      },
      "execution_count": null,
      "outputs": [
        {
          "name": "stdout",
          "text": "admission\nAdmit       900\nWaitlist    100\nName: count, dtype: int64\n",
          "output_type": "stream"
        },
        {
          "output_type": "display_data",
          "data": {
            "text/plain": "<Figure size 640x480 with 1 Axes>",
            "image/png": "[encoded data removed]"
          },
          "metadata": {}
        }
      ]
    },
    {
      "cell_type": "code",
      "source": [
        "data = df.drop('admission',axis=1)\n",
        "numeric_data = data.select_dtypes(include=['float64', 'int64'])\n",
        "\n",
        "corr = numeric_data.corr()\n",
        "\n",
        "sns.heatmap(corr,annot=True,cmap='coolwarm')"
      ],
      "metadata": {
        "execution": {
          "iopub.status.busy": "2024-09-27T09:42:49.162803Z",
          "iopub.execute_input": "2024-09-27T09:42:49.163303Z",
          "iopub.status.idle": "2024-09-27T09:42:49.528963Z",
          "shell.execute_reply.started": "2024-09-27T09:42:49.16325Z",
          "shell.execute_reply": "2024-09-27T09:42:49.527642Z"
        },
        "trusted": true,
        "id": "5LfTUniaUxJ9",
        "outputId": "48e84abe-fb44-4b2a-83c3-5d3e2f1d3008"
      },
      "execution_count": null,
      "outputs": [
        {
          "execution_count": 36,
          "output_type": "execute_result",
          "data": {
            "text/plain": "<Axes: >"
          },
          "metadata": {}
        },
        {
          "output_type": "display_data",
          "data": {
            "text/plain": "<Figure size 640x480 with 2 Axes>",
            "image/png": "[encoded data removed]"
          },
          "metadata": {}
        }
      ]
    },
    {
      "cell_type": "markdown",
      "source": [
        "# **Numerical Embedding of Categorical Data**"
      ],
      "metadata": {
        "id": "9PpbESBFUxJ9"
      }
    },
    {
      "cell_type": "code",
      "source": [
        "df['gender'] = df['gender'].map({'Male':1,'Female':0})"
      ],
      "metadata": {
        "execution": {
          "iopub.status.busy": "2024-09-27T09:51:56.322959Z",
          "iopub.execute_input": "2024-09-27T09:51:56.32385Z",
          "iopub.status.idle": "2024-09-27T09:51:56.332094Z",
          "shell.execute_reply.started": "2024-09-27T09:51:56.323798Z",
          "shell.execute_reply": "2024-09-27T09:51:56.330785Z"
        },
        "trusted": true,
        "id": "aI9jwwFtUxKA"
      },
      "execution_count": null,
      "outputs": []
    },
    {
      "cell_type": "code",
      "source": [
        "df['admission']  = df['admission'].map({'Admit':1,'Waitlist':0}).fillna(0)"
      ],
      "metadata": {
        "execution": {
          "iopub.status.busy": "2024-09-27T09:52:46.80261Z",
          "iopub.execute_input": "2024-09-27T09:52:46.803739Z",
          "iopub.status.idle": "2024-09-27T09:52:46.812612Z",
          "shell.execute_reply.started": "2024-09-27T09:52:46.803688Z",
          "shell.execute_reply": "2024-09-27T09:52:46.811212Z"
        },
        "trusted": true,
        "id": "_-_RZa0uUxKA"
      },
      "execution_count": null,
      "outputs": []
    },
    {
      "cell_type": "code",
      "source": [
        "df.head()"
      ],
      "metadata": {
        "execution": {
          "iopub.status.busy": "2024-09-27T09:53:05.082238Z",
          "iopub.execute_input": "2024-09-27T09:53:05.082809Z",
          "iopub.status.idle": "2024-09-27T09:53:05.105157Z",
          "shell.execute_reply.started": "2024-09-27T09:53:05.082745Z",
          "shell.execute_reply": "2024-09-27T09:53:05.103624Z"
        },
        "trusted": true,
        "id": "kb3QSk6vUxKB",
        "outputId": "c0faf840-8968-4b7a-92f6-2d36dee24dd5"
      },
      "execution_count": null,
      "outputs": [
        {
          "execution_count": 39,
          "output_type": "execute_result",
          "data": {
            "text/plain": "   gender  international   gpa       major      race   gmat  work_exp  \\\n0       0          False  3.30    Business     Asian  620.0       3.0   \n1       1          False  3.28  Humanities     Black  680.0       5.0   \n2       0           True  3.30    Business       NaN  710.0       5.0   \n3       1          False  3.47        STEM     Black  690.0       6.0   \n4       1          False  3.35        STEM  Hispanic  590.0       5.0   \n\n           work_industry  admission  \n0     Financial Services        1.0  \n1  Investment Management        0.0  \n2             Technology        1.0  \n3             Technology        0.0  \n4             Consulting        0.0  ",
            "text/html": "<div>\n<style scoped>\n    .dataframe tbody tr th:only-of-type {\n        vertical-align: middle;\n    }\n\n    .dataframe tbody tr th {\n        vertical-align: top;\n    }\n\n    .dataframe thead th {\n        text-align: right;\n    }\n</style>\n<table border=\"1\" class=\"dataframe\">\n  <thead>\n    <tr style=\"text-align: right;\">\n      <th></th>\n      <th>gender</th>\n      <th>international</th>\n      <th>gpa</th>\n      <th>major</th>\n      <th>race</th>\n      <th>gmat</th>\n      <th>work_exp</th>\n      <th>work_industry</th>\n      <th>admission</th>\n    </tr>\n  </thead>\n  <tbody>\n    <tr>\n      <th>0</th>\n      <td>0</td>\n      <td>False</td>\n      <td>3.30</td>\n      <td>Business</td>\n      <td>Asian</td>\n      <td>620.0</td>\n      <td>3.0</td>\n      <td>Financial Services</td>\n      <td>1.0</td>\n    </tr>\n    <tr>\n      <th>1</th>\n      <td>1</td>\n      <td>False</td>\n      <td>3.28</td>\n      <td>Humanities</td>\n      <td>Black</td>\n      <td>680.0</td>\n      <td>5.0</td>\n      <td>Investment Management</td>\n      <td>0.0</td>\n    </tr>\n    <tr>\n      <th>2</th>\n      <td>0</td>\n      <td>True</td>\n      <td>3.30</td>\n      <td>Business</td>\n      <td>NaN</td>\n      <td>710.0</td>\n      <td>5.0</td>\n      <td>Technology</td>\n      <td>1.0</td>\n    </tr>\n    <tr>\n      <th>3</th>\n      <td>1</td>\n      <td>False</td>\n      <td>3.47</td>\n      <td>STEM</td>\n      <td>Black</td>\n      <td>690.0</td>\n      <td>6.0</td>\n      <td>Technology</td>\n      <td>0.0</td>\n    </tr>\n    <tr>\n      <th>4</th>\n      <td>1</td>\n      <td>False</td>\n      <td>3.35</td>\n      <td>STEM</td>\n      <td>Hispanic</td>\n      <td>590.0</td>\n      <td>5.0</td>\n      <td>Consulting</td>\n      <td>0.0</td>\n    </tr>\n  </tbody>\n</table>\n</div>"
          },
          "metadata": {}
        }
      ]
    },
    {
      "cell_type": "code",
      "source": [
        "race = df[df['admission'] == 1]['race']\n",
        "\n",
        "plt.pie(race.value_counts(),labels=race.value_counts().index)\n",
        "plt.show()"
      ],
      "metadata": {
        "execution": {
          "iopub.status.busy": "2024-09-27T10:54:40.351074Z",
          "iopub.execute_input": "2024-09-27T10:54:40.351567Z",
          "iopub.status.idle": "2024-09-27T10:54:40.477854Z",
          "shell.execute_reply.started": "2024-09-27T10:54:40.35152Z",
          "shell.execute_reply": "2024-09-27T10:54:40.476686Z"
        },
        "trusted": true,
        "id": "Mid6TNRbUxKC",
        "outputId": "9a0a3ef0-eefc-409d-eab4-c7a3a071ab5f"
      },
      "execution_count": null,
      "outputs": [
        {
          "output_type": "display_data",
          "data": {
            "text/plain": "<Figure size 640x480 with 1 Axes>",
            "image/png": "[encoded data removed]"
          },
          "metadata": {}
        }
      ]
    },
    {
      "cell_type": "code",
      "source": [
        "X = df.drop('admission',axis=1)\n",
        "X = pd.get_dummies(X,drop_first=True)\n",
        "Y = df['admission']"
      ],
      "metadata": {
        "execution": {
          "iopub.status.busy": "2024-09-27T10:11:16.097069Z",
          "iopub.execute_input": "2024-09-27T10:11:16.097567Z",
          "iopub.status.idle": "2024-09-27T10:11:16.115138Z",
          "shell.execute_reply.started": "2024-09-27T10:11:16.097523Z",
          "shell.execute_reply": "2024-09-27T10:11:16.113634Z"
        },
        "trusted": true,
        "id": "nFl41vXSUxKC"
      },
      "execution_count": null,
      "outputs": []
    },
    {
      "cell_type": "code",
      "source": [
        "X.head()"
      ],
      "metadata": {
        "execution": {
          "iopub.status.busy": "2024-09-27T10:11:23.14251Z",
          "iopub.execute_input": "2024-09-27T10:11:23.143947Z",
          "iopub.status.idle": "2024-09-27T10:11:23.175069Z",
          "shell.execute_reply.started": "2024-09-27T10:11:23.143872Z",
          "shell.execute_reply": "2024-09-27T10:11:23.173817Z"
        },
        "trusted": true,
        "id": "VkDDQlu8UxKD",
        "outputId": "5525756f-9934-46ba-ba99-9cdb23d3cc8e"
      },
      "execution_count": null,
      "outputs": [
        {
          "execution_count": 43,
          "output_type": "execute_result",
          "data": {
            "text/plain": "   gender  international   gpa   gmat  work_exp  major_Humanities  major_STEM  \\\n0       0          False  3.30  620.0       3.0             False       False   \n1       1          False  3.28  680.0       5.0              True       False   \n2       0           True  3.30  710.0       5.0             False       False   \n3       1          False  3.47  690.0       6.0             False        True   \n4       1          False  3.35  590.0       5.0             False        True   \n\n   race_Black  race_Hispanic  race_Other  ...  work_industry_Health Care  \\\n0       False          False       False  ...                      False   \n1        True          False       False  ...                      False   \n2       False          False       False  ...                      False   \n3        True          False       False  ...                      False   \n4       False           True       False  ...                      False   \n\n   work_industry_Investment Banking  work_industry_Investment Management  \\\n0                             False                                False   \n1                             False                                 True   \n2                             False                                False   \n3                             False                                False   \n4                             False                                False   \n\n   work_industry_Media/Entertainment  work_industry_Nonprofit/Gov  \\\n0                              False                        False   \n1                              False                        False   \n2                              False                        False   \n3                              False                        False   \n4                              False                        False   \n\n   work_industry_Other  work_industry_PE/VC  work_industry_Real Estate  \\\n0                False                False                      False   \n1                False                False                      False   \n2                False                False                      False   \n3                False                False                      False   \n4                False                False                      False   \n\n   work_industry_Retail  work_industry_Technology  \n0                 False                     False  \n1                 False                     False  \n2                 False                      True  \n3                 False                      True  \n4                 False                     False  \n\n[5 rows x 24 columns]",
            "text/html": "<div>\n<style scoped>\n    .dataframe tbody tr th:only-of-type {\n        vertical-align: middle;\n    }\n\n    .dataframe tbody tr th {\n        vertical-align: top;\n    }\n\n    .dataframe thead th {\n        text-align: right;\n    }\n</style>\n<table border=\"1\" class=\"dataframe\">\n  <thead>\n    <tr style=\"text-align: right;\">\n      <th></th>\n      <th>gender</th>\n      <th>international</th>\n      <th>gpa</th>\n      <th>gmat</th>\n      <th>work_exp</th>\n      <th>major_Humanities</th>\n      <th>major_STEM</th>\n      <th>race_Black</th>\n      <th>race_Hispanic</th>\n      <th>race_Other</th>\n      <th>...</th>\n      <th>work_industry_Health Care</th>\n      <th>work_industry_Investment Banking</th>\n      <th>work_industry_Investment Management</th>\n      <th>work_industry_Media/Entertainment</th>\n      <th>work_industry_Nonprofit/Gov</th>\n      <th>work_industry_Other</th>\n      <th>work_industry_PE/VC</th>\n      <th>work_industry_Real Estate</th>\n      <th>work_industry_Retail</th>\n      <th>work_industry_Technology</th>\n    </tr>\n  </thead>\n  <tbody>\n    <tr>\n      <th>0</th>\n      <td>0</td>\n      <td>False</td>\n      <td>3.30</td>\n      <td>620.0</td>\n      <td>3.0</td>\n      <td>False</td>\n      <td>False</td>\n      <td>False</td>\n      <td>False</td>\n      <td>False</td>\n      <td>...</td>\n      <td>False</td>\n      <td>False</td>\n      <td>False</td>\n      <td>False</td>\n      <td>False</td>\n      <td>False</td>\n      <td>False</td>\n      <td>False</td>\n      <td>False</td>\n      <td>False</td>\n    </tr>\n    <tr>\n      <th>1</th>\n      <td>1</td>\n      <td>False</td>\n      <td>3.28</td>\n      <td>680.0</td>\n      <td>5.0</td>\n      <td>True</td>\n      <td>False</td>\n      <td>True</td>\n      <td>False</td>\n      <td>False</td>\n      <td>...</td>\n      <td>False</td>\n      <td>False</td>\n      <td>True</td>\n      <td>False</td>\n      <td>False</td>\n      <td>False</td>\n      <td>False</td>\n      <td>False</td>\n      <td>False</td>\n      <td>False</td>\n    </tr>\n    <tr>\n      <th>2</th>\n      <td>0</td>\n      <td>True</td>\n      <td>3.30</td>\n      <td>710.0</td>\n      <td>5.0</td>\n      <td>False</td>\n      <td>False</td>\n      <td>False</td>\n      <td>False</td>\n      <td>False</td>\n      <td>...</td>\n      <td>False</td>\n      <td>False</td>\n      <td>False</td>\n      <td>False</td>\n      <td>False</td>\n      <td>False</td>\n      <td>False</td>\n      <td>False</td>\n      <td>False</td>\n      <td>True</td>\n    </tr>\n    <tr>\n      <th>3</th>\n      <td>1</td>\n      <td>False</td>\n      <td>3.47</td>\n      <td>690.0</td>\n      <td>6.0</td>\n      <td>False</td>\n      <td>True</td>\n      <td>True</td>\n      <td>False</td>\n      <td>False</td>\n      <td>...</td>\n      <td>False</td>\n      <td>False</td>\n      <td>False</td>\n      <td>False</td>\n      <td>False</td>\n      <td>False</td>\n      <td>False</td>\n      <td>False</td>\n      <td>False</td>\n      <td>True</td>\n    </tr>\n    <tr>\n      <th>4</th>\n      <td>1</td>\n      <td>False</td>\n      <td>3.35</td>\n      <td>590.0</td>\n      <td>5.0</td>\n      <td>False</td>\n      <td>True</td>\n      <td>False</td>\n      <td>True</td>\n      <td>False</td>\n      <td>...</td>\n      <td>False</td>\n      <td>False</td>\n      <td>False</td>\n      <td>False</td>\n      <td>False</td>\n      <td>False</td>\n      <td>False</td>\n      <td>False</td>\n      <td>False</td>\n      <td>False</td>\n    </tr>\n  </tbody>\n</table>\n<p>5 rows × 24 columns</p>\n</div>"
          },
          "metadata": {}
        }
      ]
    },
    {
      "cell_type": "code",
      "source": [
        "from sklearn.model_selection import train_test_split, GridSearchCV\n",
        "# Modeling\n",
        "from sklearn.linear_model import LogisticRegression\n",
        "from sklearn.svm import SVC\n",
        "from sklearn.neighbors import KNeighborsClassifier\n",
        "from sklearn.tree import DecisionTreeClassifier\n",
        "from sklearn.ensemble import RandomForestClassifier\n",
        "\n",
        "X_train, X_test, y_train, y_test = train_test_split(X, Y, test_size=0.2, random_state=42)"
      ],
      "metadata": {
        "execution": {
          "iopub.status.busy": "2024-09-27T11:18:32.546754Z",
          "iopub.execute_input": "2024-09-27T11:18:32.547347Z",
          "iopub.status.idle": "2024-09-27T11:18:33.104584Z",
          "shell.execute_reply.started": "2024-09-27T11:18:32.547274Z",
          "shell.execute_reply": "2024-09-27T11:18:33.103389Z"
        },
        "trusted": true,
        "id": "yINwbPFYUxKD"
      },
      "execution_count": null,
      "outputs": []
    },
    {
      "cell_type": "code",
      "source": [
        "y_train.head()"
      ],
      "metadata": {
        "execution": {
          "iopub.status.busy": "2024-09-27T11:45:04.039492Z",
          "iopub.execute_input": "2024-09-27T11:45:04.040078Z",
          "iopub.status.idle": "2024-09-27T11:45:04.052753Z",
          "shell.execute_reply.started": "2024-09-27T11:45:04.040023Z",
          "shell.execute_reply": "2024-09-27T11:45:04.051203Z"
        },
        "trusted": true,
        "id": "xgyKEWBIUxKE",
        "outputId": "6a47218e-d400-420c-a75e-b46a52511cc8"
      },
      "execution_count": null,
      "outputs": [
        {
          "execution_count": 84,
          "output_type": "execute_result",
          "data": {
            "text/plain": "6189    0.0\n711     1.0\n3954    1.0\n1020    1.0\n5726    0.0\nName: admission, dtype: float64"
          },
          "metadata": {}
        }
      ]
    },
    {
      "cell_type": "code",
      "source": [
        "LRmodel = LogisticRegression()"
      ],
      "metadata": {
        "execution": {
          "iopub.status.busy": "2024-09-27T11:18:57.265382Z",
          "iopub.execute_input": "2024-09-27T11:18:57.265891Z",
          "iopub.status.idle": "2024-09-27T11:18:57.271873Z",
          "shell.execute_reply.started": "2024-09-27T11:18:57.265846Z",
          "shell.execute_reply": "2024-09-27T11:18:57.270366Z"
        },
        "trusted": true,
        "id": "nmQzLE_HUxKE"
      },
      "execution_count": null,
      "outputs": []
    },
    {
      "cell_type": "code",
      "source": [
        "LRmodel.fit(X_train,y_train)"
      ],
      "metadata": {
        "execution": {
          "iopub.status.busy": "2024-09-27T11:20:04.801061Z",
          "iopub.execute_input": "2024-09-27T11:20:04.801563Z",
          "iopub.status.idle": "2024-09-27T11:20:04.9473Z",
          "shell.execute_reply.started": "2024-09-27T11:20:04.801517Z",
          "shell.execute_reply": "2024-09-27T11:20:04.945718Z"
        },
        "trusted": true,
        "id": "e7nDdam2UxKF",
        "outputId": "4504773d-25e4-4dcd-8c20-4394e2aba38d"
      },
      "execution_count": null,
      "outputs": [
        {
          "name": "stderr",
          "text": "/opt/conda/lib/python3.10/site-packages/sklearn/linear_model/_logistic.py:458: ConvergenceWarning: lbfgs failed to converge (status=1):\nSTOP: TOTAL NO. of ITERATIONS REACHED LIMIT.\n\nIncrease the number of iterations (max_iter) or scale the data as shown in:\n    https://scikit-learn.org/stable/modules/preprocessing.html\nPlease also refer to the documentation for alternative solver options:\n    https://scikit-learn.org/stable/modules/linear_model.html#logistic-regression\n  n_iter_i = _check_optimize_result(\n",
          "output_type": "stream"
        },
        {
          "execution_count": 66,
          "output_type": "execute_result",
          "data": {
            "text/plain": "LogisticRegression()",
            "text/html": "<style>#sk-container-id-1 {color: black;background-color: white;}#sk-container-id-1 pre{padding: 0;}#sk-container-id-1 div.sk-toggleable {background-color: white;}#sk-container-id-1 label.sk-toggleable__label {cursor: pointer;display: block;width: 100%;margin-bottom: 0;padding: 0.3em;box-sizing: border-box;text-align: center;}#sk-container-id-1 label.sk-toggleable__label-arrow:before {content: \"▸\";float: left;margin-right: 0.25em;color: #696969;}#sk-container-id-1 label.sk-toggleable__label-arrow:hover:before {color: black;}#sk-container-id-1 div.sk-estimator:hover label.sk-toggleable__label-arrow:before {color: black;}#sk-container-id-1 div.sk-toggleable__content {max-height: 0;max-width: 0;overflow: hidden;text-align: left;background-color: #f0f8ff;}#sk-container-id-1 div.sk-toggleable__content pre {margin: 0.2em;color: black;border-radius: 0.25em;background-color: #f0f8ff;}#sk-container-id-1 input.sk-toggleable__control:checked~div.sk-toggleable__content {max-height: 200px;max-width: 100%;overflow: auto;}#sk-container-id-1 input.sk-toggleable__control:checked~label.sk-toggleable__label-arrow:before {content: \"▾\";}#sk-container-id-1 div.sk-estimator input.sk-toggleable__control:checked~label.sk-toggleable__label {background-color: #d4ebff;}#sk-container-id-1 div.sk-label input.sk-toggleable__control:checked~label.sk-toggleable__label {background-color: #d4ebff;}#sk-container-id-1 input.sk-hidden--visually {border: 0;clip: rect(1px 1px 1px 1px);clip: rect(1px, 1px, 1px, 1px);height: 1px;margin: -1px;overflow: hidden;padding: 0;position: absolute;width: 1px;}#sk-container-id-1 div.sk-estimator {font-family: monospace;background-color: #f0f8ff;border: 1px dotted black;border-radius: 0.25em;box-sizing: border-box;margin-bottom: 0.5em;}#sk-container-id-1 div.sk-estimator:hover {background-color: #d4ebff;}#sk-container-id-1 div.sk-parallel-item::after {content: \"\";width: 100%;border-bottom: 1px solid gray;flex-grow: 1;}#sk-container-id-1 div.sk-label:hover label.sk-toggleable__label {background-color: #d4ebff;}#sk-container-id-1 div.sk-serial::before {content: \"\";position: absolute;border-left: 1px solid gray;box-sizing: border-box;top: 0;bottom: 0;left: 50%;z-index: 0;}#sk-container-id-1 div.sk-serial {display: flex;flex-direction: column;align-items: center;background-color: white;padding-right: 0.2em;padding-left: 0.2em;position: relative;}#sk-container-id-1 div.sk-item {position: relative;z-index: 1;}#sk-container-id-1 div.sk-parallel {display: flex;align-items: stretch;justify-content: center;background-color: white;position: relative;}#sk-container-id-1 div.sk-item::before, #sk-container-id-1 div.sk-parallel-item::before {content: \"\";position: absolute;border-left: 1px solid gray;box-sizing: border-box;top: 0;bottom: 0;left: 50%;z-index: -1;}#sk-container-id-1 div.sk-parallel-item {display: flex;flex-direction: column;z-index: 1;position: relative;background-color: white;}#sk-container-id-1 div.sk-parallel-item:first-child::after {align-self: flex-end;width: 50%;}#sk-container-id-1 div.sk-parallel-item:last-child::after {align-self: flex-start;width: 50%;}#sk-container-id-1 div.sk-parallel-item:only-child::after {width: 0;}#sk-container-id-1 div.sk-dashed-wrapped {border: 1px dashed gray;margin: 0 0.4em 0.5em 0.4em;box-sizing: border-box;padding-bottom: 0.4em;background-color: white;}#sk-container-id-1 div.sk-label label {font-family: monospace;font-weight: bold;display: inline-block;line-height: 1.2em;}#sk-container-id-1 div.sk-label-container {text-align: center;}#sk-container-id-1 div.sk-container {/* jupyter's `normalize.less` sets `[hidden] { display: none; }` but bootstrap.min.css set `[hidden] { display: none !important; }` so we also need the `!important` here to be able to override the default hidden behavior on the sphinx rendered scikit-learn.org. See: https://github.com/scikit-learn/scikit-learn/issues/21755 */display: inline-block !important;position: relative;}#sk-container-id-1 div.sk-text-repr-fallback {display: none;}</style><div id=\"sk-container-id-1\" class=\"sk-top-container\"><div class=\"sk-text-repr-fallback\"><pre>LogisticRegression()</pre><b>In a Jupyter environment, please rerun this cell to show the HTML representation or trust the notebook. <br />On GitHub, the HTML representation is unable to render, please try loading this page with nbviewer.org.</b></div><div class=\"sk-container\" hidden><div class=\"sk-item\"><div class=\"sk-estimator sk-toggleable\"><input class=\"sk-toggleable__control sk-hidden--visually\" id=\"sk-estimator-id-1\" type=\"checkbox\" checked><label for=\"sk-estimator-id-1\" class=\"sk-toggleable__label sk-toggleable__label-arrow\">LogisticRegression</label><div class=\"sk-toggleable__content\"><pre>LogisticRegression()</pre></div></div></div></div></div>"
          },
          "metadata": {}
        }
      ]
    },
    {
      "cell_type": "code",
      "source": [
        "# Evaluation\n",
        "from sklearn.metrics import classification_report, accuracy_score, roc_auc_score\n",
        "from sklearn.metrics import roc_curve, auc, precision_score, f1_score, recall_score, confusion_matrix\n",
        "from sklearn.model_selection import cross_val_score"
      ],
      "metadata": {
        "execution": {
          "iopub.status.busy": "2024-09-27T11:21:46.380085Z",
          "iopub.execute_input": "2024-09-27T11:21:46.380594Z",
          "iopub.status.idle": "2024-09-27T11:21:46.38726Z",
          "shell.execute_reply.started": "2024-09-27T11:21:46.380551Z",
          "shell.execute_reply": "2024-09-27T11:21:46.385862Z"
        },
        "trusted": true,
        "id": "f5oyXTEeUxKF"
      },
      "execution_count": null,
      "outputs": []
    },
    {
      "cell_type": "code",
      "source": [
        "LR_predict = LRmodel.predict(X_test)"
      ],
      "metadata": {
        "execution": {
          "iopub.status.busy": "2024-09-27T11:25:34.565554Z",
          "iopub.execute_input": "2024-09-27T11:25:34.566056Z",
          "iopub.status.idle": "2024-09-27T11:25:34.576719Z",
          "shell.execute_reply.started": "2024-09-27T11:25:34.566011Z",
          "shell.execute_reply": "2024-09-27T11:25:34.575233Z"
        },
        "trusted": true,
        "id": "5EI46zgUUxKF"
      },
      "execution_count": null,
      "outputs": []
    },
    {
      "cell_type": "code",
      "source": [
        "accuracy = accuracy_score(y_test,LR_predict)\n",
        "\n",
        "print(f\"Accuracy: {accuracy:.2%}\")"
      ],
      "metadata": {
        "execution": {
          "iopub.status.busy": "2024-09-27T11:28:50.785114Z",
          "iopub.execute_input": "2024-09-27T11:28:50.785554Z",
          "iopub.status.idle": "2024-09-27T11:28:50.794611Z",
          "shell.execute_reply.started": "2024-09-27T11:28:50.785514Z",
          "shell.execute_reply": "2024-09-27T11:28:50.793358Z"
        },
        "trusted": true,
        "id": "wqCZ-5aeUxKG",
        "outputId": "9c41622f-5ce7-4fae-cb7d-5835c8640b40"
      },
      "execution_count": null,
      "outputs": [
        {
          "name": "stdout",
          "text": "Accuracy: 84.10%\n",
          "output_type": "stream"
        }
      ]
    },
    {
      "cell_type": "code",
      "source": [
        "print(classification_report(y_test,LR_predict))"
      ],
      "metadata": {
        "execution": {
          "iopub.status.busy": "2024-09-27T11:30:17.789675Z",
          "iopub.execute_input": "2024-09-27T11:30:17.790093Z",
          "iopub.status.idle": "2024-09-27T11:30:17.81088Z",
          "shell.execute_reply.started": "2024-09-27T11:30:17.790054Z",
          "shell.execute_reply": "2024-09-27T11:30:17.809722Z"
        },
        "trusted": true,
        "id": "mpxvDmNIUxKG",
        "outputId": "a8f78b2f-b6c4-4c54-c204-4f3546cb665b"
      },
      "execution_count": null,
      "outputs": [
        {
          "name": "stdout",
          "text": "              precision    recall  f1-score   support\n\n         0.0       0.85      0.99      0.91      1043\n         1.0       0.47      0.04      0.07       196\n\n    accuracy                           0.84      1239\n   macro avg       0.66      0.51      0.49      1239\nweighted avg       0.79      0.84      0.78      1239\n\n",
          "output_type": "stream"
        }
      ]
    },
    {
      "cell_type": "code",
      "source": [
        "SVC_model = SVC()\n",
        "\n",
        "SVC_model.fit(X_train,y_train)\n",
        "SVC_predict = SVC_model.predict(X_test)\n",
        "\n",
        "accuracy = accuracy_score(y_test,SVC_predict)\n",
        "print(f\"Accuracy: {accuracy:.2%}\")"
      ],
      "metadata": {
        "execution": {
          "iopub.status.busy": "2024-09-27T11:36:49.592172Z",
          "iopub.execute_input": "2024-09-27T11:36:49.592677Z",
          "iopub.status.idle": "2024-09-27T11:36:50.079808Z",
          "shell.execute_reply.started": "2024-09-27T11:36:49.592617Z",
          "shell.execute_reply": "2024-09-27T11:36:50.078495Z"
        },
        "trusted": true,
        "id": "kP9XMrtcUxKH",
        "outputId": "29acb084-7580-4a7a-b1a6-ac1c4e9f5dda"
      },
      "execution_count": null,
      "outputs": [
        {
          "name": "stdout",
          "text": "Accuracy: 84.18%\n",
          "output_type": "stream"
        }
      ]
    },
    {
      "cell_type": "code",
      "source": [
        "KNC_model = KNeighborsClassifier()\n",
        "\n",
        "KNC_model.fit(X_train,y_train)\n",
        "KNC_predict = KNC_model.predict(X_test)\n",
        "\n",
        "accuracy = accuracy_score(y_test,KNC_predict)\n",
        "print(f\"Accuracy: {accuracy:.2%}\")"
      ],
      "metadata": {
        "execution": {
          "iopub.status.busy": "2024-09-27T11:42:32.090286Z",
          "iopub.execute_input": "2024-09-27T11:42:32.090778Z",
          "iopub.status.idle": "2024-09-27T11:42:32.269203Z",
          "shell.execute_reply.started": "2024-09-27T11:42:32.090732Z",
          "shell.execute_reply": "2024-09-27T11:42:32.267886Z"
        },
        "trusted": true,
        "id": "GXUuOHknUxKH",
        "outputId": "4b240ff1-4fa0-4c9c-8738-f56d69a2cb04"
      },
      "execution_count": null,
      "outputs": [
        {
          "name": "stdout",
          "text": "Accuracy: 83.05%\n",
          "output_type": "stream"
        }
      ]
    },
    {
      "cell_type": "code",
      "source": [
        "print(classification_report(y_test,KNC_predict))"
      ],
      "metadata": {
        "execution": {
          "iopub.status.busy": "2024-09-27T11:43:34.160191Z",
          "iopub.execute_input": "2024-09-27T11:43:34.160706Z",
          "iopub.status.idle": "2024-09-27T11:43:34.179592Z",
          "shell.execute_reply.started": "2024-09-27T11:43:34.160636Z",
          "shell.execute_reply": "2024-09-27T11:43:34.178397Z"
        },
        "trusted": true,
        "id": "nM8e6W9iUxKI",
        "outputId": "6e1985f2-f526-4569-a149-7600706b0807"
      },
      "execution_count": null,
      "outputs": [
        {
          "name": "stdout",
          "text": "              precision    recall  f1-score   support\n\n         0.0       0.86      0.95      0.90      1043\n         1.0       0.42      0.18      0.26       196\n\n    accuracy                           0.83      1239\n   macro avg       0.64      0.57      0.58      1239\nweighted avg       0.79      0.83      0.80      1239\n\n",
          "output_type": "stream"
        }
      ]
    },
    {
      "cell_type": "code",
      "source": [
        "print(confusion_matrix(y_test,KNC_predict))"
      ],
      "metadata": {
        "execution": {
          "iopub.status.busy": "2024-09-27T11:44:26.674845Z",
          "iopub.execute_input": "2024-09-27T11:44:26.675288Z",
          "iopub.status.idle": "2024-09-27T11:44:26.686952Z",
          "shell.execute_reply.started": "2024-09-27T11:44:26.675241Z",
          "shell.execute_reply": "2024-09-27T11:44:26.685688Z"
        },
        "trusted": true,
        "id": "JpAj327jUxKI",
        "outputId": "88dc0079-b24e-4949-f82c-c18c8e05f547"
      },
      "execution_count": null,
      "outputs": [
        {
          "name": "stdout",
          "text": "[[993  50]\n [160  36]]\n",
          "output_type": "stream"
        }
      ]
    },
    {
      "cell_type": "code",
      "source": [
        "DTC_model = DecisionTreeClassifier()\n",
        "DTC_model.fit(X_train,y_train)\n",
        "\n",
        "DTC_predict = DTC_model.predict(X_test)\n",
        "\n",
        "accuracy = accuracy_score(y_test,DTC_predict)\n",
        "print(f\"Accuracy: {accuracy:.2%}\")"
      ],
      "metadata": {
        "execution": {
          "iopub.status.busy": "2024-09-27T11:48:09.924379Z",
          "iopub.execute_input": "2024-09-27T11:48:09.924875Z",
          "iopub.status.idle": "2024-09-27T11:48:09.959238Z",
          "shell.execute_reply.started": "2024-09-27T11:48:09.924831Z",
          "shell.execute_reply": "2024-09-27T11:48:09.957553Z"
        },
        "trusted": true,
        "id": "p6S-UcXoUxKJ",
        "outputId": "1aa5622a-2d37-479d-8374-ec15bc74dafa"
      },
      "execution_count": null,
      "outputs": [
        {
          "name": "stdout",
          "text": "Accuracy: 79.98%\n",
          "output_type": "stream"
        }
      ]
    },
    {
      "cell_type": "code",
      "source": [
        "RFC_model =  RandomForestClassifier()\n",
        "RFC_model.fit(X_train,y_train)\n",
        "\n",
        "predict = RFC_model.predict(X_test)\n",
        "\n",
        "accuracy = accuracy_score(y_test,predict)\n",
        "print(f\"Accuracy: {accuracy:.2%}\")"
      ],
      "metadata": {
        "execution": {
          "iopub.status.busy": "2024-09-27T11:50:49.854331Z",
          "iopub.execute_input": "2024-09-27T11:50:49.854836Z",
          "iopub.status.idle": "2024-09-27T11:50:50.517817Z",
          "shell.execute_reply.started": "2024-09-27T11:50:49.85479Z",
          "shell.execute_reply": "2024-09-27T11:50:50.516513Z"
        },
        "trusted": true,
        "id": "eGApz2gkUxKJ",
        "outputId": "a9510b10-98e7-42d8-b5fd-44cb42e9e7cf"
      },
      "execution_count": null,
      "outputs": [
        {
          "name": "stdout",
          "text": "Accuracy: 83.21%\n",
          "output_type": "stream"
        }
      ]
    },
    {
      "cell_type": "code",
      "source": [],
      "metadata": {
        "id": "U_ogxwKtUxKK"
      },
      "execution_count": null,
      "outputs": []
    }
  ]
}